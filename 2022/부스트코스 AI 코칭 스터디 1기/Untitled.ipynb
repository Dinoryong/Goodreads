{
 "cells": [
  {
   "cell_type": "code",
   "execution_count": 1,
   "id": "dded93d4",
   "metadata": {},
   "outputs": [],
   "source": [
    "from collections import deque\n"
   ]
  },
  {
   "cell_type": "code",
   "execution_count": 6,
   "id": "4053d828",
   "metadata": {},
   "outputs": [],
   "source": [
    "deque_list = deque()\n",
    "for i in range(5):\n",
    "    deque_list.append(i)\n",
    "deque_list.appendleft(10)"
   ]
  },
  {
   "cell_type": "code",
   "execution_count": 8,
   "id": "b1ac45d6",
   "metadata": {},
   "outputs": [],
   "source": [
    "deque_list.append(3)"
   ]
  },
  {
   "cell_type": "code",
   "execution_count": 9,
   "id": "5e9423b0",
   "metadata": {},
   "outputs": [
    {
     "data": {
      "text/plain": [
       "deque([10, 0, 1, 2, 3, 4, 3])"
      ]
     },
     "execution_count": 9,
     "metadata": {},
     "output_type": "execute_result"
    }
   ],
   "source": [
    "deque_list"
   ]
  },
  {
   "cell_type": "code",
   "execution_count": null,
   "id": "690edfd4",
   "metadata": {},
   "outputs": [],
   "source": [
    "deque_list.rotate(1)"
   ]
  },
  {
   "cell_type": "code",
   "execution_count": null,
   "id": "773ea4f7",
   "metadata": {},
   "outputs": [],
   "source": [
    "deque_list"
   ]
  },
  {
   "cell_type": "code",
   "execution_count": 10,
   "id": "bbf1149a",
   "metadata": {},
   "outputs": [
    {
     "data": {
      "text/plain": [
       "deque([10, 0, 1, 2, 3, 4, 3, 5, 6, 7])"
      ]
     },
     "execution_count": 10,
     "metadata": {},
     "output_type": "execute_result"
    }
   ],
   "source": [
    "deque_list.extend([5,6,7])\n",
    "deque_list"
   ]
  },
  {
   "cell_type": "code",
   "execution_count": 12,
   "id": "9eecf8be",
   "metadata": {},
   "outputs": [
    {
     "data": {
      "text/plain": [
       "deque([7, 6, 5, 7, 6, 5, 10, 0, 1, 2, 3, 4, 3, 5, 6, 7])"
      ]
     },
     "execution_count": 12,
     "metadata": {},
     "output_type": "execute_result"
    }
   ],
   "source": [
    "deque_list.extendleft([5,6,7])\n",
    "deque_list"
   ]
  },
  {
   "cell_type": "code",
   "execution_count": 13,
   "id": "9af9eac3",
   "metadata": {},
   "outputs": [
    {
     "name": "stdout",
     "output_type": "stream",
     "text": [
      "2.08 ms ± 32.4 µs per loop (mean ± std. dev. of 7 runs, 100 loops each)\n"
     ]
    }
   ],
   "source": [
    "def general_list():\n",
    "    just_list = []\n",
    "    for i in range(100):\n",
    "        for i in range(100):\n",
    "            just_list.append(i)\n",
    "            just_list.pop()\n",
    "            \n",
    "%timeit general_list()"
   ]
  },
  {
   "cell_type": "code",
   "execution_count": 14,
   "id": "9b364c1b",
   "metadata": {},
   "outputs": [
    {
     "name": "stdout",
     "output_type": "stream",
     "text": [
      "646 µs ± 4.36 µs per loop (mean ± std. dev. of 7 runs, 1000 loops each)\n"
     ]
    }
   ],
   "source": [
    "def deque_list():\n",
    "    deque_list = deque()\n",
    "    \n",
    "    for i in range(100):\n",
    "        for i in range(100):\n",
    "            deque_list.append(i)\n",
    "            deque_list.pop()\n",
    "            \n",
    "%timeit deque_list()"
   ]
  },
  {
   "cell_type": "code",
   "execution_count": null,
   "id": "41f2c5cc",
   "metadata": {},
   "outputs": [],
   "source": []
  }
 ],
 "metadata": {
  "kernelspec": {
   "display_name": "Python 3 (ipykernel)",
   "language": "python",
   "name": "python3"
  },
  "language_info": {
   "codemirror_mode": {
    "name": "ipython",
    "version": 3
   },
   "file_extension": ".py",
   "mimetype": "text/x-python",
   "name": "python",
   "nbconvert_exporter": "python",
   "pygments_lexer": "ipython3",
   "version": "3.9.6"
  }
 },
 "nbformat": 4,
 "nbformat_minor": 5
}

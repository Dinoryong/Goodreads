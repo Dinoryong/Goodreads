{
 "cells": [
  {
   "cell_type": "markdown",
   "id": "78def038",
   "metadata": {},
   "source": [
    "# class 구현하기 in Python\n",
    "- 축구 선수 정보를 Class로 구현하기"
   ]
  },
  {
   "cell_type": "markdown",
   "id": "b3be9ef7",
   "metadata": {},
   "source": [
    "1. class (설계도) 선언하기\n",
    "- class 선언, object는 python3에서 자동 상속\n",
    "- `class 예약어` `class 이름` `상속받는 객체명`\n",
    "    class SoccerPlayer(object):\n",
    "- Python naming rule : 변수와 Class명 함수명은 짓는 방식이 존재\n",
    "    - snake_cakse : 띄어쓰기 부분이 \"_\" 를 추가 , 뱀처럼 늘여쓰기 , 파이썬 함수/변수명에 사용\n",
    "    - CamelCase : 띄어쓰기 부분에 대문자 , 낙타의 등 모양 , 파이썬 Class명에 사용\n",
    "\n",
    "2. Attribute 추가하기\n",
    "- Attribute 추가는 __init__ , self 와 함께! __init__은 `객체 초기화 예약 함수`\n",
    "- Python 에서 `__` 의미 : 특수한 예약 함수나 변수 그리고 함수명 변경(맨글링)으로 사용\n",
    "    - ex) __main__ , __add__ , __str__ , __eq__\n",
    "    - ``` python \n",
    "    class SoccerPlayer(object):\n",
    "        def __str__(self):\n",
    "            return \"Hello, My name is %s. I play in %s in center \" %|\n",
    "            (self.name, self.position)\n",
    "    jinhyun = SoccerPlayer(\"Jinhyun\", \"MF\", 10)\n",
    "    print(jinhyun)\n",
    "    ```\n",
    "    - \n",
    "    \n",
    "- "
   ]
  },
  {
   "cell_type": "code",
   "execution_count": null,
   "id": "6dc1da58",
   "metadata": {},
   "outputs": [],
   "source": [
    "# class 선언\n"
   ]
  },
  {
   "cell_type": "code",
   "execution_count": null,
   "id": "e4adad5f",
   "metadata": {},
   "outputs": [],
   "source": [
    "# Attribute 추가\n",
    "\n",
    "class SoccerPlayer(object):\n",
    "    def __init__(self, name, position, back_numeber):\n",
    "        self.name = name\n",
    "        self.position = position\n",
    "        self.back_number = back_number"
   ]
  },
  {
   "cell_type": "code",
   "execution_count": null,
   "id": "9f0b6778",
   "metadata": {},
   "outputs": [],
   "source": []
  }
 ],
 "metadata": {
  "kernelspec": {
   "display_name": "Python 3 (ipykernel)",
   "language": "python",
   "name": "python3"
  },
  "language_info": {
   "codemirror_mode": {
    "name": "ipython",
    "version": 3
   },
   "file_extension": ".py",
   "mimetype": "text/x-python",
   "name": "python",
   "nbconvert_exporter": "python",
   "pygments_lexer": "ipython3",
   "version": "3.9.6"
  }
 },
 "nbformat": 4,
 "nbformat_minor": 5
}
